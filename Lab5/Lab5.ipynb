{
 "cells": [
  {
   "cell_type": "markdown",
   "metadata": {},
   "source": [
    "# Lab work №5"
   ]
  },
  {
   "cell_type": "markdown",
   "metadata": {},
   "source": [
    "Let's develop an algorithm simulating a Hebb network. For cases with unsolvable problems of adaptation of the weights of neural network connections, we predict the maximum number of iterations. If the problem is not solved after the given number of iterations, we will display an exit message:"
   ]
  },
  {
   "cell_type": "code",
   "execution_count": 1,
   "metadata": {},
   "outputs": [],
   "source": [
    "import numpy as np\n",
    "\n",
    "def hebbian_network(letters, expected_result, neurons_number):\n",
    "    letters = [[1] + letter for letter in letters] # Add 1 (x0 value) to each vector of input letters\n",
    "    weights = [[0] * len(letters[0]) for _ in range(neurons_number)] # Initialize weights (at this stage, they are 0)\n",
    "\n",
    "    for letter_index in range(neurons_number):\n",
    "        for neuron_index in range(neurons_number):\n",
    "            for weight_index in range(len(weights[neuron_index])):\n",
    "                weights[neuron_index][weight_index] += letters[letter_index][weight_index] * expected_result[letter_index][neuron_index]\n",
    "\n",
    "    actual_result = activation_function(letters, weights, neurons_number) # activations\n",
    "    if actual_result == expected_result:\n",
    "        return weights\n",
    "    else:\n",
    "        # If the correct value was not found, output an error and the weight values we obtained\n",
    "        error_message = f\"Error! Unfortunately, the task could not be solved. Weights obtained in the process: {weights}\"\n",
    "        raise Exception(error_message)\n",
    "\n",
    "\n",
    "def activation_function(letters, weights, neurons_number):\n",
    "    activations = [] # list to store activations, currently empty\n",
    "    for letter_ind in range(len(letters)):\n",
    "        letter_result = [] # activations for a specific letter vector\n",
    "        for neuron_ind in range(neurons_number):\n",
    "            activation_sum = 0\n",
    "            for weight_index in range(len(weights[neuron_ind])):\n",
    "                activation_sum += weights[neuron_ind][weight_index] * letters[letter_ind][weight_index]\n",
    "            letter_result += [1 if activation_sum > 0 else -1] # use bipolar function, hence values are 1 or -1\n",
    "        activations += [letter_result]\n",
    "    return activations\n"
   ]
  },
  {
   "cell_type": "markdown",
   "metadata": {},
   "source": [
    "First, let's create matrices for expected results and lists for letters:"
   ]
  },
  {
   "cell_type": "code",
   "execution_count": 2,
   "metadata": {},
   "outputs": [],
   "source": [
    "K = [1, -1, 1,\n",
    "    1, 1, -1,\n",
    "    1, -1, 1]\n",
    "T = [1, 1, 1,\n",
    "    -1, 1, -1,\n",
    "    -1, 1, -1]\n",
    "A = [-1, 1, -1,\n",
    "    1, 1, 1,\n",
    "    1, -1, 1]\n",
    "O = [1, 1, 1,\n",
    "    1, -1, 1,\n",
    "    1, 1, 1]\n",
    "\n",
    "expected_result = [ # in the case of correct data, the expected result is the identity matrix\n",
    "[1, -1, -1, -1], # K\n",
    "[-1, 1, -1, -1], # T\n",
    "[-1, -1, 1, -1], # A\n",
    "[-1, -1, -1, 1]  # O\n",
    "]\n"
   ]
  },
  {
   "cell_type": "markdown",
   "metadata": {},
   "source": [
    "Let's train the model and check it on the correct data:"
   ]
  },
  {
   "cell_type": "code",
   "execution_count": 3,
   "metadata": {},
   "outputs": [
    {
     "name": "stdout",
     "output_type": "stream",
     "text": [
      "Weight coefficients of the trained model:\n",
      "[-2, 0, -4, 0, 0, 0, -2, 0, -2, 0]\n",
      "[-2, 0, 0, 0, -4, 0, -2, -4, 2, -4]\n",
      "[-2, -4, 0, -4, 0, 0, 2, 0, -2, 0]\n",
      "[-2, 0, 0, 0, 0, -4, 2, 0, 2, 0]\n",
      "\n",
      "Matrix for correct data (letters \"K\", \"T\", \"A\", and \"O\"):\n",
      "[1, -1, -1, -1]\n",
      "[-1, 1, -1, -1]\n",
      "[-1, -1, 1, -1]\n",
      "[-1, -1, -1, 1]\n",
      "\n",
      "Results for correct data:\n",
      "Expected: K | Recognized: K | True\n",
      "Expected: T | Recognized: T | True\n",
      "Expected: A | Recognized: A | True\n",
      "Expected: O | Recognized: O | True\n"
     ]
    }
   ],
   "source": [
    "train_letters = [K, T, A, O]\n",
    "number_of_neurons = len(train_letters)\n",
    "final_weights = hebbian_network(train_letters, expected_result, number_of_neurons)\n",
    "print('Weight coefficients of the trained model:')\n",
    "for weight in final_weights:\n",
    "    print(weight)\n",
    "\n",
    "def print_results(expected, recognized):\n",
    "    letters = ['K', 'T', 'A', 'O']\n",
    "    expected_letter = letters[np.argmax(expected)]\n",
    "    recognized_letter = letters[np.argmax(recognized)]\n",
    "    print(f\"Expected: {expected_letter} | Recognized: {recognized_letter} \" f\"| {True if expected_letter == recognized_letter else False}\")\n",
    "\n",
    "correct_letters = [K, T, A, O]\n",
    "correct_letters = [[1] + letter for letter in correct_letters]\n",
    "actual_result = activation_function(correct_letters, final_weights, number_of_neurons)\n",
    "\n",
    "print('\\nMatrix for correct data (letters \"K\", \"T\", \"A\", and \"O\"):')\n",
    "for res in actual_result:\n",
    "    print(res)\n",
    "\n",
    "print('\\nResults for correct data:')\n",
    "for i, res in enumerate(actual_result):\n",
    "    print_results(expected_result[i], res)\n"
   ]
  },
  {
   "cell_type": "markdown",
   "metadata": {},
   "source": [
    "Now let's test the model on data with errors:"
   ]
  },
  {
   "cell_type": "code",
   "execution_count": 4,
   "metadata": {},
   "outputs": [
    {
     "name": "stdout",
     "output_type": "stream",
     "text": [
      "\n",
      "Matrix for data with errors (letters \"K\", \"T\", \"A\", and \"O\"):\n",
      "[1, -1, -1, -1]\n",
      "[-1, 1, -1, -1]\n",
      "[-1, -1, 1, 1]\n",
      "[-1, -1, -1, 1]\n",
      "\n",
      "Results for data with errors:\n",
      "Expected: K | Recognized: K | True\n",
      "Expected: T | Recognized: T | True\n",
      "Expected: A | Recognized: A | True\n",
      "Expected: O | Recognized: O | True\n"
     ]
    }
   ],
   "source": [
    "K_error = [1, -1, -1,\n",
    "           1, 1, -1,\n",
    "           1, -1, 1]\n",
    "T_error = [1, 1, 1,\n",
    "           -1, 1, -1,\n",
    "           -1, 1, 1]\n",
    "A_error = [-1, 1, -1,\n",
    "           1, -1, 1,\n",
    "           1, -1, 1]\n",
    "O_error = [1, -1, 1,\n",
    "           1, -1, 1,\n",
    "           1, 1, 1]\n",
    "\n",
    "error_letters = [K_error, T_error, A_error, O_error]\n",
    "error_letters = [[1] + letter for letter in error_letters]\n",
    "actual_result_with_mistakes = activation_function(error_letters, final_weights, number_of_neurons)\n",
    "\n",
    "print('\\nMatrix for data with errors (letters \"K\", \"T\", \"A\", and \"O\"):')\n",
    "for res in actual_result_with_mistakes:\n",
    "    print(res)\n",
    "\n",
    "print('\\nResults for data with errors:')\n",
    "for i, res in enumerate(actual_result_with_mistakes):\n",
    "    print_results(expected_result[i], res)\n"
   ]
  }
 ],
 "metadata": {
  "kernelspec": {
   "display_name": "Python 3",
   "language": "python",
   "name": "python3"
  },
  "language_info": {
   "codemirror_mode": {
    "name": "ipython",
    "version": 3
   },
   "file_extension": ".py",
   "mimetype": "text/x-python",
   "name": "python",
   "nbconvert_exporter": "python",
   "pygments_lexer": "ipython3",
   "version": "3.9.6"
  }
 },
 "nbformat": 4,
 "nbformat_minor": 2
}
